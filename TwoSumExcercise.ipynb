{
 "cells": [
  {
   "cell_type": "code",
   "execution_count": 1,
   "id": "b04c96ce-4916-4dec-bdb9-c0d4eba57de2",
   "metadata": {},
   "outputs": [],
   "source": [
    "nums = [2,7,11,15]\n",
    "target = 9\n",
    "output = [0,1]"
   ]
  },
  {
   "cell_type": "code",
   "execution_count": 2,
   "id": "64261a09-60e3-4f6e-bfbf-3696f15cd1c7",
   "metadata": {},
   "outputs": [],
   "source": [
    "nums = [3,2,4]\n",
    "target = 6\n",
    "output = [1,2]\n",
    "# 1. see if target is contained in nums\n",
    "# 2. see if the sum of 2 elecments can give you the target"
   ]
  },
  {
   "cell_type": "code",
   "execution_count": 3,
   "id": "ee3ded0e-defa-47c4-a04e-0623b9115ad0",
   "metadata": {},
   "outputs": [],
   "source": [
    "nums = [1,3,7,15,3,2,1]\n",
    "target = 11\n",
    "# 1. see if target is contained in nums\n",
    "# 2. see if the sum of any 2 digits give you the TARGET.\n",
    "# 3. see if the sum of any 3 digits give you the TARGET.\n",
    "output = [0,1,2]"
   ]
  },
  {
   "cell_type": "code",
   "execution_count": 4,
   "id": "910c2ebe-9231-4e59-aacd-9d019d8e2c1c",
   "metadata": {},
   "outputs": [
    {
     "ename": "SyntaxError",
     "evalue": "invalid syntax (Temp/ipykernel_4400/258464861.py, line 3)",
     "output_type": "error",
     "traceback": [
      "\u001b[1;36m  File \u001b[1;32m\"C:\\Users\\WESLEY~1\\AppData\\Local\\Temp/ipykernel_4400/258464861.py\"\u001b[1;36m, line \u001b[1;32m3\u001b[0m\n\u001b[1;33m    Output: Because nums[0] + nums[1] == 9, we return [0, 1]\u001b[0m\n\u001b[1;37m                    ^\u001b[0m\n\u001b[1;31mSyntaxError\u001b[0m\u001b[1;31m:\u001b[0m invalid syntax\n"
     ]
    }
   ],
   "source": [
    "Input: nums = [2,7,11,15], target == 9\n",
    "Output: [0,1]\n",
    "Output: Because nums[0] + nums[1] == 9, we return [0, 1]"
   ]
  },
  {
   "cell_type": "code",
   "execution_count": 6,
   "id": "56134b17-ebac-4a4f-bae2-b6c53531df88",
   "metadata": {},
   "outputs": [],
   "source": [
    "nums = [2,7,11,15]\n",
    "target = 9"
   ]
  },
  {
   "cell_type": "code",
   "execution_count": 7,
   "id": "bc119d2a-c484-4a43-aa58-fb0ba22e26ae",
   "metadata": {
    "tags": []
   },
   "outputs": [],
   "source": [
    "# Step 1: pulls index number if target is in list\n",
    "# For i in nums:\n",
    "    #print(i)\n",
    "    #print(nums[1])\n",
    "    \n",
    "for i in nums:\n",
    "    index = nums.index(i)\n",
    "    \n",
    "    if i == target:\n",
    "        print(index)"
   ]
  },
  {
   "cell_type": "code",
   "execution_count": 8,
   "id": "73df0747-da4e-4815-970f-b1d793c8d8d1",
   "metadata": {
    "tags": []
   },
   "outputs": [
    {
     "name": "stdout",
     "output_type": "stream",
     "text": [
      "2\n",
      "7\n",
      "11\n",
      "15\n"
     ]
    }
   ],
   "source": [
    "# Step 2: sum of every pair of elements = target\n",
    "for i in nums:\n",
    "    print(i)"
   ]
  },
  {
   "cell_type": "code",
   "execution_count": 9,
   "id": "4fae3c36-acb7-4e0e-a73b-9493e05ba2d8",
   "metadata": {
    "tags": []
   },
   "outputs": [
    {
     "name": "stdout",
     "output_type": "stream",
     "text": [
      "0 1\n"
     ]
    }
   ],
   "source": [
    "for i in range(0,len(nums)-1):\n",
    "    for j in range(1,len(nums)-1):\n",
    "        \n",
    "        sum = nums[i] + nums[j]\n",
    "        \n",
    "        if sum == target:\n",
    "            \n",
    "            print(i,j)"
   ]
  },
  {
   "cell_type": "code",
   "execution_count": null,
   "id": "3fd0136e-923e-4885-8146-a6f864ab755a",
   "metadata": {},
   "outputs": [],
   "source": [
    "# Example 3\n",
    "#Input: nums = [3,3], target = 6\n",
    "#Output: [0,1]"
   ]
  },
  {
   "cell_type": "code",
   "execution_count": null,
   "id": "7af98b2a-a5c9-46bc-9f95-ffc780ce720c",
   "metadata": {},
   "outputs": [],
   "source": [
    "nums = [3,3]\n",
    "target = 6"
   ]
  },
  {
   "cell_type": "code",
   "execution_count": null,
   "id": "d68e4f6c-9cfd-4130-b928-02c9762f5b91",
   "metadata": {},
   "outputs": [],
   "source": [
    "for i in nums:\n",
    "    index = nums.index(i)\n",
    "    \n",
    "    if i == target:\n",
    "        print(index)"
   ]
  },
  {
   "cell_type": "code",
   "execution_count": null,
   "id": "af8ac460-15b8-4de2-93eb-2ce8681edfb6",
   "metadata": {},
   "outputs": [],
   "source": [
    "for i in nums:\n",
    "    print(i)"
   ]
  },
  {
   "cell_type": "code",
   "execution_count": 10,
   "id": "583c9437-1ace-4eaa-a139-93fce24481c1",
   "metadata": {},
   "outputs": [
    {
     "name": "stdout",
     "output_type": "stream",
     "text": [
      "0 1\n"
     ]
    }
   ],
   "source": [
    "for i in range(0,len(nums)-1):\n",
    "    for j in range(1,len(nums)):\n",
    "        \n",
    "        sum = nums[i] + nums[j]\n",
    "        \n",
    "        if sum == target:\n",
    "            \n",
    "            print(i,j)"
   ]
  },
  {
   "cell_type": "code",
   "execution_count": null,
   "id": "5e6a6396-af75-45c7-9539-6d138faa0d30",
   "metadata": {},
   "outputs": [],
   "source": [
    "# Example 3\n",
    "#Input: nums = [3,2,4], target = 6\n",
    "#Output: [1,2]"
   ]
  },
  {
   "cell_type": "code",
   "execution_count": 17,
   "id": "95a7593e-0341-4dd3-83af-e70532162d80",
   "metadata": {},
   "outputs": [],
   "source": [
    "nums = [3,2,4]\n",
    "target = 6"
   ]
  },
  {
   "cell_type": "code",
   "execution_count": 18,
   "id": "d7dd8ff0-0b44-4a60-9052-831c4d0de1d0",
   "metadata": {},
   "outputs": [],
   "source": [
    "for i in nums:\n",
    "    index = nums.index(i)\n",
    "    \n",
    "    if i == target:\n",
    "        print(index)"
   ]
  },
  {
   "cell_type": "code",
   "execution_count": 19,
   "id": "b00be927-1730-4af7-bda4-f3c7f7aff38a",
   "metadata": {},
   "outputs": [
    {
     "name": "stdout",
     "output_type": "stream",
     "text": [
      "3\n",
      "2\n",
      "4\n"
     ]
    }
   ],
   "source": [
    "for i in nums:\n",
    "    print(i)"
   ]
  },
  {
   "cell_type": "code",
   "execution_count": 26,
   "id": "91acb8e8-8058-4c42-92e1-1adcdac54062",
   "metadata": {
    "tags": []
   },
   "outputs": [],
   "source": [
    "for i in range(0,len(nums)-1):\n",
    "    for j in range(1,len(nums)-1):\n",
    "        sum = nums[i] + nums[j] \n",
    "        if sum == target: \n",
    "            print(i,j)"
   ]
  },
  {
   "cell_type": "code",
   "execution_count": 27,
   "id": "abd87fc8-9a5c-4873-9a8a-063e613c3f8c",
   "metadata": {},
   "outputs": [
    {
     "data": {
      "text/plain": [
       "3"
      ]
     },
     "execution_count": 27,
     "metadata": {},
     "output_type": "execute_result"
    }
   ],
   "source": [
    "len(nums)"
   ]
  },
  {
   "cell_type": "code",
   "execution_count": null,
   "id": "6bfa7e6c-48c3-4860-9b9a-b9b57f786455",
   "metadata": {},
   "outputs": [],
   "source": []
  },
  {
   "cell_type": "code",
   "execution_count": null,
   "id": "05823a9d-39dc-4596-9a0d-916e9e24aec5",
   "metadata": {},
   "outputs": [],
   "source": []
  },
  {
   "cell_type": "code",
   "execution_count": null,
   "id": "ebecfa93-c164-4835-8960-8b0844ff0e9a",
   "metadata": {},
   "outputs": [],
   "source": []
  }
 ],
 "metadata": {
  "kernelspec": {
   "display_name": "Python 3 (ipykernel)",
   "language": "python",
   "name": "python3"
  },
  "language_info": {
   "codemirror_mode": {
    "name": "ipython",
    "version": 3
   },
   "file_extension": ".py",
   "mimetype": "text/x-python",
   "name": "python",
   "nbconvert_exporter": "python",
   "pygments_lexer": "ipython3",
   "version": "3.8.8"
  }
 },
 "nbformat": 4,
 "nbformat_minor": 5
}
