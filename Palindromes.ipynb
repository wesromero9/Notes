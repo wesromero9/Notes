{
 "cells": [
  {
   "cell_type": "code",
   "execution_count": 1,
   "id": "fe07e37d-11f7-453c-8c69-3fe017918399",
   "metadata": {},
   "outputs": [],
   "source": [
    "## Example 1\n",
    "#Input: x = 121\n",
    "#Output: true"
   ]
  },
  {
   "cell_type": "code",
   "execution_count": 26,
   "id": "219a6cf6-c9ef-4423-9ddc-721153248506",
   "metadata": {},
   "outputs": [],
   "source": [
    "x = 113"
   ]
  },
  {
   "cell_type": "code",
   "execution_count": 27,
   "id": "1a099c54-6c37-416c-86e4-92fc1263b307",
   "metadata": {},
   "outputs": [],
   "source": [
    "string = str(x)"
   ]
  },
  {
   "cell_type": "code",
   "execution_count": 28,
   "id": "f79f87a1-29aa-4339-a2da-7373c68a4af8",
   "metadata": {},
   "outputs": [
    {
     "data": {
      "text/plain": [
       "int"
      ]
     },
     "execution_count": 28,
     "metadata": {},
     "output_type": "execute_result"
    }
   ],
   "source": [
    "type(x)"
   ]
  },
  {
   "cell_type": "code",
   "execution_count": 29,
   "id": "b7e95be2-a46e-4707-b668-4cac98231d3c",
   "metadata": {},
   "outputs": [
    {
     "data": {
      "text/plain": [
       "str"
      ]
     },
     "execution_count": 29,
     "metadata": {},
     "output_type": "execute_result"
    }
   ],
   "source": [
    "type(str(x))"
   ]
  },
  {
   "cell_type": "code",
   "execution_count": 31,
   "id": "a417ff45-0113-409e-9d3d-3c71399875ff",
   "metadata": {},
   "outputs": [
    {
     "name": "stdout",
     "output_type": "stream",
     "text": [
      "False\n",
      "311\n"
     ]
    }
   ],
   "source": [
    "if string[::-1] == string:\n",
    "    print(\"True\")\n",
    "else:\n",
    "    print(\"False\")\n",
    "    print(string[::-1])"
   ]
  },
  {
   "cell_type": "code",
   "execution_count": null,
   "id": "899bb609-9872-4f82-b519-ceebed2ca4b2",
   "metadata": {},
   "outputs": [],
   "source": []
  },
  {
   "cell_type": "code",
   "execution_count": null,
   "id": "6f2c1e14-be52-4d0b-92bc-32b6a80517e6",
   "metadata": {},
   "outputs": [],
   "source": []
  }
 ],
 "metadata": {
  "kernelspec": {
   "display_name": "Python 3 (ipykernel)",
   "language": "python",
   "name": "python3"
  },
  "language_info": {
   "codemirror_mode": {
    "name": "ipython",
    "version": 3
   },
   "file_extension": ".py",
   "mimetype": "text/x-python",
   "name": "python",
   "nbconvert_exporter": "python",
   "pygments_lexer": "ipython3",
   "version": "3.8.8"
  }
 },
 "nbformat": 4,
 "nbformat_minor": 5
}
